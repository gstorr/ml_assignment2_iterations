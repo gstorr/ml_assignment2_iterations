{
 "cells": [
  {
   "cell_type": "code",
   "execution_count": 308,
   "metadata": {},
   "outputs": [],
   "source": [
    "import numpy as np\n",
    "import pandas as pd\n",
    "import matplotlib.pyplot as plt\n",
    "import pickle\n",
    "import warnings\n",
    "warnings.filterwarnings(\"ignore\", message=\"numpy.ufunc size changed\")\n",
    "from skimage import io, color, img_as_bool, data, exposure, transform, feature\n",
    "from skimage.feature import hog, blob_dog, blob_doh, corner_harris, corner_subpix, corner_peaks, daisy\n",
    "from skimage.transform import warp, AffineTransform\n",
    "from skimage.draw import ellipse\n",
    "from skimage.filters import threshold_multiotsu\n",
    "from my_measures import BinaryClassificationPerformance  \n",
    "from sklearn.model_selection import train_test_split\n",
    "%matplotlib inline"
   ]
  },
  {
   "cell_type": "code",
   "execution_count": 309,
   "metadata": {},
   "outputs": [
    {
     "name": "stdout",
     "output_type": "stream",
     "text": [
      "Help on class BinaryClassificationPerformance in module my_measures:\n",
      "\n",
      "class BinaryClassificationPerformance(builtins.object)\n",
      " |  BinaryClassificationPerformance(predictions, labels, desc, probabilities=None)\n",
      " |  \n",
      " |  Performance measures to evaluate the fit of a binary classification model, v1.03\n",
      " |  \n",
      " |  Methods defined here:\n",
      " |  \n",
      " |  __init__(self, predictions, labels, desc, probabilities=None)\n",
      " |      Initialize attributes: predictions-vector of predicted values for Y, labels-vector of labels for Y\n",
      " |  \n",
      " |  compute_measures(self)\n",
      " |      Compute performance measures defined by Flach p. 57\n",
      " |  \n",
      " |  img_indices(self)\n",
      " |      Get the indices of true and false positives to be able to locate the corresponding images in a list of image names\n",
      " |  \n",
      " |  ----------------------------------------------------------------------\n",
      " |  Data descriptors defined here:\n",
      " |  \n",
      " |  __dict__\n",
      " |      dictionary for instance variables (if defined)\n",
      " |  \n",
      " |  __weakref__\n",
      " |      list of weak references to the object (if defined)\n",
      "\n"
     ]
    }
   ],
   "source": [
    "help(BinaryClassificationPerformance)"
   ]
  },
  {
   "cell_type": "code",
   "execution_count": 310,
   "metadata": {},
   "outputs": [],
   "source": [
    "ci_path = 'C:/Users/geoff/PycharmProjects/machine_learning_assignment2/final_assignment_2/plane_data/cropped_images/' # file path for cropped images for training\n",
    "l_file = 'C:/Users/geoff/PycharmProjects/machine_learning_assignment2/final_assignment_2/plane_data/plane_labels.csv' # file path and file name for csv with labels"
   ]
  },
  {
   "cell_type": "code",
   "execution_count": 311,
   "metadata": {},
   "outputs": [],
   "source": [
    "# in downscaling the image, what do you want the new dimensions to be?\n",
    "# the original dimensions of cropped images: (60, 140), which if 8,400 pixels\n",
    "dims = (15, 35) # 25% of the original size, 525 pixels"
   ]
  },
  {
   "cell_type": "code",
   "execution_count": 312,
   "metadata": {},
   "outputs": [
    {
     "name": "stdout",
     "output_type": "stream",
     "text": [
      "downscaled image shape: \n",
      "(60, 140)\n",
      "image representation (first row of pixels): \n",
      "[ 2.31986730e-05  5.82684396e-05 -8.13237947e-04 -9.11945827e-04\n",
      " -8.19518431e-04 -9.87624632e-04 -1.28110993e-03 -1.68724085e-03\n",
      " -2.21028110e-03 -2.77216374e-03 -3.30601923e-03 -3.87752054e-03\n",
      " -4.54784071e-03 -5.15465797e-03 -5.49304431e-03 -5.52972154e-03\n",
      " -5.33922645e-03 -4.69028575e-03 -3.49637952e-03 -2.32951844e-03\n",
      " -1.72977762e-03 -1.63854031e-03 -1.65374254e-03 -1.67754989e-03\n",
      " -1.71199180e-03 -1.72814464e-03 -1.67183607e-03 -1.54262422e-03\n",
      " -1.39148876e-03 -1.23376246e-03 -1.06317397e-03 -8.99003092e-04\n",
      " -7.68991060e-04 -6.83631682e-04 -6.33576360e-04 -6.01530014e-04\n",
      " -5.77930473e-04 -5.74929110e-04 -6.19316455e-04 -7.17784887e-04\n",
      " -8.67713746e-04 -1.05899094e-03 -1.25442303e-03 -1.45833707e-03\n",
      " -1.86326350e-03 -2.69055903e-03 -3.44047175e-03 -3.62218478e-03\n",
      " -3.15638405e-03 -2.47180683e-03 -2.25386557e-03 -2.60437690e-03\n",
      " -3.48658516e-03 -4.53261396e-03 -5.10595631e-03 -4.88429822e-03\n",
      " -4.30939011e-03 -3.89330553e-03 -3.76003332e-03 -3.88644327e-03\n",
      " -4.01843519e-03 -3.98162625e-03 -3.84122318e-03 -3.67338071e-03\n",
      " -3.50653054e-03 -3.33837981e-03 -3.16954094e-03 -3.21206913e-03\n",
      " -4.01858475e-03 -5.63071622e-03 -6.88037719e-03 -7.22769625e-03\n",
      " -6.46829829e-03 -5.28802615e-03 -4.36775041e-03 -3.62943281e-03\n",
      " -3.29510921e-03 -3.46085781e-03 -3.93981253e-03 -4.57153792e-03\n",
      " -5.21143840e-03 -5.66525851e-03 -5.79420494e-03 -5.44467732e-03\n",
      " -4.36600789e-03 -2.92465045e-03 -1.72076572e-03 -1.05534357e-03\n",
      " -8.62499945e-04 -7.71239947e-04 -7.07737941e-04 -7.16117590e-04\n",
      " -7.63652066e-04 -7.93318386e-04 -8.02817795e-04 -8.10166778e-04\n",
      " -8.09812215e-04 -7.68127994e-04 -6.72081955e-04 -5.63109073e-04\n",
      " -4.93511004e-04 -4.79030987e-04 -5.15149300e-04 -5.99542350e-04\n",
      " -7.36940069e-04 -9.31235695e-04 -1.15544374e-03 -1.38864046e-03\n",
      " -1.67400675e-03 -2.06597175e-03 -2.53274505e-03 -2.95693306e-03\n",
      " -3.19294410e-03 -3.18314634e-03 -3.06087983e-03 -3.16170143e-03\n",
      " -3.39784011e-03 -3.30815694e-03 -2.47191424e-03 -2.34896443e-04\n",
      "  2.81146902e-03  7.12684180e-03  3.23686991e-02  2.87954067e-02\n",
      " -1.21335811e-03 -6.97234742e-04  9.27931618e-04 -5.37569110e-04\n",
      " -1.78084564e-03 -3.01087606e-03 -3.75392538e-03 -3.89241026e-03\n",
      " -3.71056324e-03 -3.48428752e-03 -3.29037348e-03 -3.11345416e-03\n",
      " -2.88700591e-03 -2.07453849e-03 -1.44254477e-04  1.71291293e-04]\n",
      "\n",
      "\n",
      "example of transformation: \n"
     ]
    },
    {
     "data": {
      "image/png": "[encoded data removed]",
      "text/plain": [
       "<Figure size 432x288 with 2 Axes>"
      ]
     },
     "metadata": {
      "needs_background": "light"
     },
     "output_type": "display_data"
    }
   ],
   "source": [
    "# Harris Corner Representation\n",
    "\n",
    "def cnr_test(imname, imgs_path, imview=False):\n",
    "    warnings.filterwarnings('ignore')\n",
    "    imname = imgs_path + imname + '.png'\n",
    "    img_raw = io.imread(imname, as_gray=True)\n",
    "    downscaled = transform.resize(img_raw, (dims[0], dims[1])) # downscale image\n",
    "    cnr_image = corner_harris(img_raw, method='k', k=0.19) # 0.0 < k < 0.2\n",
    "    #cnr_image = corner_harris(downscaled, method='eps', eps=1.0e-7)\n",
    "\n",
    "    if imview==True:\n",
    "        io.imshow(cnr_image)\n",
    "    warnings.filterwarnings('always')\n",
    "    return cnr_image\n",
    "\n",
    "# test the function, look at input/output\n",
    "test_image = cnr_test('2017-08-25T23+24+13_390Z', ci_path, True)\n",
    "print('downscaled image shape: ')\n",
    "print(test_image.shape)\n",
    "print('image representation (first row of pixels): ')\n",
    "print(test_image[0])\n",
    "print('\\n')\n",
    "print('example of transformation: ')"
   ]
  },
  {
   "cell_type": "code",
   "execution_count": 313,
   "metadata": {},
   "outputs": [
    {
     "data": {
      "text/plain": [
       "<matplotlib.image.AxesImage at 0x1b481ce4fd0>"
      ]
     },
     "execution_count": 313,
     "metadata": {},
     "output_type": "execute_result"
    },
    {
     "data": {
      "image/png": "[encoded data removed]",
      "text/plain": [
       "<Figure size 432x288 with 1 Axes>"
      ]
     },
     "metadata": {
      "needs_background": "light"
     },
     "output_type": "display_data"
    }
   ],
   "source": [
    "this_imname = ci_path + '2017-08-25T23+24+13_390Z.png'\n",
    "io.imshow(io.imread(this_imname))"
   ]
  },
  {
   "cell_type": "code",
   "execution_count": 314,
   "metadata": {},
   "outputs": [],
   "source": [
    "# function that takes raw images and completes all preprocessing required before model fits\n",
    "def process_raw_data(labels_fn, images_fp, my_random_seed, imview=False, test=False):\n",
    "    plane_data = pd.read_csv(labels_fn) # read in photograph labels\n",
    "    print(\"First few lines of image labels: \")\n",
    "    print(plane_data.head())\n",
    "    print(\"Size of image label dataFrame: \")\n",
    "    print(plane_data.shape)\n",
    "        \n",
    "    # construct lists for features, labels, and a crosswalk reference to image names\n",
    "    features_list = []\n",
    "    if (not test):\n",
    "        y_list = []\n",
    "    imnames_list = []\n",
    "\n",
    "    for index, row in plane_data.iterrows():\n",
    "        features_list.append(cnr_test(row['img_name'], images_fp))\n",
    "        if (not test):\n",
    "            y_list.append(row['plane'])\n",
    "        imnames_list.append(row['img_name'])\n",
    "    \n",
    "    # convert the lists to ndarrays\n",
    "    features = np.asarray(features_list)\n",
    "    if (not test):\n",
    "        Y = np.asarray(y_list)\n",
    "    imgs = np.asarray(imnames_list)\n",
    "    print('Shape of original feature representation: ')\n",
    "    print(features.shape)\n",
    "\n",
    "    # flatten the images ndarray to one row per image\n",
    "    features_flat = features.reshape((features.shape[0], -1))\n",
    "\n",
    "    print('Shape of flat feature representation: ')\n",
    "    print(features_flat.shape)\n",
    "\n",
    "    if (not test):\n",
    "        print('Shape of Y: ')\n",
    "        print(Y.shape)\n",
    "\n",
    "        print('Number of images with planes: ')\n",
    "        print(Y.sum())\n",
    "    \n",
    "        # create train and test sets\n",
    "        data_train, data_test, y_train, y_test, imgs_train, imgs_test = train_test_split(features_flat, \n",
    "            Y, imgs, test_size = 0.25, random_state = my_random_seed)\n",
    "\n",
    "        print('Shape of training set: ')\n",
    "        print(y_train.shape)\n",
    "        print('Number of training images that contain an airplane: ')\n",
    "        print(y_train.sum())\n",
    "\n",
    "        print('Shape of test set: ')\n",
    "        print(y_test.shape)\n",
    "        print('Number of test images that contain an airplane: ')\n",
    "        print(y_test.sum())\n",
    "    \n",
    "    if (test):\n",
    "        X_submission_test = features_flat\n",
    "        print(\"Shape of X_test for submission:\")\n",
    "        print(X_submission_test.shape)\n",
    "        print('SUCCESS!')\n",
    "        return(X_submission_test, plane_data)\n",
    "    else: \n",
    "        print(\"Shape of data_train and data_test:\")\n",
    "        print(data_train.shape)\n",
    "        print(data_test.shape)\n",
    "        print(\"Shape of y_train and y_test:\")\n",
    "        print(y_train.shape)\n",
    "        print(y_test.shape)\n",
    "        print(\"Shape of imgs_train and imgs_test:\")\n",
    "        print(imgs_train.shape)\n",
    "        print(imgs_test.shape)\n",
    "        print('SUCCESS!')\n",
    "        return(data_train, data_test, y_train, y_test, imgs_train, imgs_test)"
   ]
  },
  {
   "cell_type": "code",
   "execution_count": 315,
   "metadata": {},
   "outputs": [
    {
     "name": "stdout",
     "output_type": "stream",
     "text": [
      "First few lines of image labels: \n",
      "                   img_name  plane\n",
      "0  2016-08-02T13+50+24_430Z  False\n",
      "1  2016-08-02T14+12+37_390Z  False\n",
      "2  2016-08-02T22+20+26_600Z  False\n",
      "3  2016-08-03T12+04+30_670Z  False\n",
      "4  2016-08-03T12+32+21_790Z  False\n",
      "Size of image label dataFrame: \n",
      "(6758, 2)\n",
      "Shape of original feature representation: \n",
      "(6758, 60, 140)\n",
      "Shape of flat feature representation: \n",
      "(6758, 8400)\n",
      "Shape of Y: \n",
      "(6758,)\n",
      "Number of images with planes: \n",
      "101\n",
      "Shape of training set: \n",
      "(5068,)\n",
      "Number of training images that contain an airplane: \n",
      "78\n",
      "Shape of test set: \n",
      "(1690,)\n",
      "Number of test images that contain an airplane: \n",
      "23\n",
      "Shape of data_train and data_test:\n",
      "(5068, 8400)\n",
      "(1690, 8400)\n",
      "Shape of y_train and y_test:\n",
      "(5068,)\n",
      "(1690,)\n",
      "Shape of imgs_train and imgs_test:\n",
      "(5068,)\n",
      "(1690,)\n",
      "SUCCESS!\n"
     ]
    }
   ],
   "source": [
    "data_train, data_test, y_train, y_test, imgs_train, imgs_test = process_raw_data(l_file, ci_path, \n",
    "    my_random_seed=223, imview=False, test=False)"
   ]
  },
  {
   "cell_type": "code",
   "execution_count": 316,
   "metadata": {},
   "outputs": [
    {
     "name": "stdout",
     "output_type": "stream",
     "text": [
      "TRAINING SET: \n",
      "{'Pos': 78, 'Neg': 4990, 'TP': 72, 'TN': 4990, 'FP': 0, 'FN': 6, 'Accuracy': 0.9988161010260458, 'Precision': 1.0, 'Recall': 0.9230769230769231, 'desc': 'prc_tr', 'set': 'tr'}\n",
      "TEST SET: \n",
      "{'Pos': 23, 'Neg': 1667, 'TP': 19, 'TN': 1665, 'FP': 2, 'FN': 4, 'Accuracy': 0.9964497041420118, 'Precision': 0.9047619047619048, 'Recall': 0.8260869565217391, 'desc': 'prc_Tr', 'set': 'te'}\n"
     ]
    }
   ],
   "source": [
    "# MODEL: Perceptron\n",
    "\n",
    "# Harris Corner Representation\n",
    "\n",
    "from sklearn import linear_model\n",
    "prc = linear_model.SGDClassifier(loss='perceptron')\n",
    "prc.fit(data_train, y_train)\n",
    "\n",
    "prc_performance = BinaryClassificationPerformance(prc.predict(data_train), y_train, 'prc_tr')\n",
    "prc_performance.compute_measures()\n",
    "prc_performance.performance_measures['set'] = 'tr'\n",
    "print('TRAINING SET: ')\n",
    "print(prc_performance.performance_measures)\n",
    "\n",
    "prc_performance_test = BinaryClassificationPerformance(prc.predict(data_test), y_test, 'prc_Tr')\n",
    "prc_performance_test.compute_measures()\n",
    "prc_performance_test.performance_measures['set'] = 'te'\n",
    "print('TEST SET: ')\n",
    "print(prc_performance_test.performance_measures)\n",
    "\n",
    "prc_performance_test.img_indices()\n",
    "prc_img_indices_to_view = prc_performance_test.image_indices"
   ]
  },
  {
   "cell_type": "code",
   "execution_count": 317,
   "metadata": {},
   "outputs": [],
   "source": [
    "def performance_examples(typ, measures):\n",
    "    iiv = ''\n",
    "    if typ == 'FP':\n",
    "        iiv = typ + '_indices'\n",
    "    elif typ == 'TP':\n",
    "        iiv = typ + '_indices'\n",
    "    elif typ == 'FN':\n",
    "        iiv = typ + '_indices'\n",
    "    else:\n",
    "        raise ValueError('input must be \"TP\", \"FP\", or \"FN\"')\n",
    "    for img in measures[iiv]:\n",
    "        warnings.filterwarnings('ignore')    \n",
    "        plt.figure()\n",
    "        lookat = ci_path + imgs_test[img] + '.png' # location of original image\n",
    "        io.imshow(lookat) # show original image\n",
    "        plt.figure()\n",
    "        io.imshow(data_test[img].reshape(dims[0], dims[1])) # show manipulation for feature representation\n",
    "        warnings.filterwarnings('always')"
   ]
  },
  {
   "cell_type": "code",
   "execution_count": 318,
   "metadata": {},
   "outputs": [
    {
     "ename": "ValueError",
     "evalue": "cannot reshape array of size 8400 into shape (15,35)",
     "output_type": "error",
     "traceback": [
      "\u001b[1;31m---------------------------------------------------------------------------\u001b[0m",
      "\u001b[1;31mValueError\u001b[0m                                Traceback (most recent call last)",
      "\u001b[1;32m<ipython-input-318-d969500415de>\u001b[0m in \u001b[0;36m<module>\u001b[1;34m\u001b[0m\n\u001b[1;32m----> 1\u001b[1;33m \u001b[0mperformance_examples\u001b[0m\u001b[1;33m(\u001b[0m\u001b[1;34m'TP'\u001b[0m\u001b[1;33m,\u001b[0m \u001b[0mprc_img_indices_to_view\u001b[0m\u001b[1;33m)\u001b[0m\u001b[1;33m\u001b[0m\u001b[1;33m\u001b[0m\u001b[0m\n\u001b[0m",
      "\u001b[1;32m<ipython-input-317-000f77920546>\u001b[0m in \u001b[0;36mperformance_examples\u001b[1;34m(typ, measures)\u001b[0m\n\u001b[0;32m     15\u001b[0m         \u001b[0mio\u001b[0m\u001b[1;33m.\u001b[0m\u001b[0mimshow\u001b[0m\u001b[1;33m(\u001b[0m\u001b[0mlookat\u001b[0m\u001b[1;33m)\u001b[0m \u001b[1;31m# show original image\u001b[0m\u001b[1;33m\u001b[0m\u001b[1;33m\u001b[0m\u001b[0m\n\u001b[0;32m     16\u001b[0m         \u001b[0mplt\u001b[0m\u001b[1;33m.\u001b[0m\u001b[0mfigure\u001b[0m\u001b[1;33m(\u001b[0m\u001b[1;33m)\u001b[0m\u001b[1;33m\u001b[0m\u001b[1;33m\u001b[0m\u001b[0m\n\u001b[1;32m---> 17\u001b[1;33m         \u001b[0mio\u001b[0m\u001b[1;33m.\u001b[0m\u001b[0mimshow\u001b[0m\u001b[1;33m(\u001b[0m\u001b[0mdata_test\u001b[0m\u001b[1;33m[\u001b[0m\u001b[0mimg\u001b[0m\u001b[1;33m]\u001b[0m\u001b[1;33m.\u001b[0m\u001b[0mreshape\u001b[0m\u001b[1;33m(\u001b[0m\u001b[0mdims\u001b[0m\u001b[1;33m[\u001b[0m\u001b[1;36m0\u001b[0m\u001b[1;33m]\u001b[0m\u001b[1;33m,\u001b[0m \u001b[0mdims\u001b[0m\u001b[1;33m[\u001b[0m\u001b[1;36m1\u001b[0m\u001b[1;33m]\u001b[0m\u001b[1;33m)\u001b[0m\u001b[1;33m)\u001b[0m \u001b[1;31m# show manipulation for feature representation\u001b[0m\u001b[1;33m\u001b[0m\u001b[1;33m\u001b[0m\u001b[0m\n\u001b[0m\u001b[0;32m     18\u001b[0m         \u001b[0mwarnings\u001b[0m\u001b[1;33m.\u001b[0m\u001b[0mfilterwarnings\u001b[0m\u001b[1;33m(\u001b[0m\u001b[1;34m'always'\u001b[0m\u001b[1;33m)\u001b[0m\u001b[1;33m\u001b[0m\u001b[1;33m\u001b[0m\u001b[0m\n",
      "\u001b[1;31mValueError\u001b[0m: cannot reshape array of size 8400 into shape (15,35)"
     ]
    },
    {
     "data": {
      "image/png": "[encoded data removed]",
      "text/plain": [
       "<Figure size 432x288 with 1 Axes>"
      ]
     },
     "metadata": {
      "needs_background": "light"
     },
     "output_type": "display_data"
    },
    {
     "data": {
      "text/plain": [
       "<Figure size 432x288 with 0 Axes>"
      ]
     },
     "metadata": {},
     "output_type": "display_data"
    }
   ],
   "source": [
    "performance_examples('TP', prc_img_indices_to_view)"
   ]
  },
  {
   "cell_type": "code",
   "execution_count": null,
   "metadata": {},
   "outputs": [],
   "source": [
    "performance_examples('FP', prc_img_indices_to_view)"
   ]
  },
  {
   "cell_type": "code",
   "execution_count": null,
   "metadata": {},
   "outputs": [],
   "source": [
    "performance_examples('FN', prc_img_indices_to_view)"
   ]
  },
  {
   "cell_type": "code",
   "execution_count": 319,
   "metadata": {},
   "outputs": [
    {
     "name": "stdout",
     "output_type": "stream",
     "text": [
      "MLPClassifier(hidden_layer_sizes=(200, 150, 100, 50, 25), max_iter=1000)\n",
      "TRAINING SET: \n",
      "{'Pos': 78, 'Neg': 4990, 'TP': 78, 'TN': 4990, 'FP': 0, 'FN': 0, 'Accuracy': 1.0, 'Precision': 1.0, 'Recall': 1.0, 'desc': 'nn_tr', 'set': 'tr'}\n",
      "TEST SET: \n",
      "{'Pos': 23, 'Neg': 1667, 'TP': 23, 'TN': 1664, 'FP': 3, 'FN': 0, 'Accuracy': 0.9982248520710059, 'Precision': 0.8846153846153846, 'Recall': 1.0, 'desc': 'nn_te', 'set': 'te'}\n"
     ]
    }
   ],
   "source": [
    "# MODEL: Multi-layer Perceptron aka neural network\n",
    "\n",
    "# Harris Corner Representation\n",
    "\n",
    "from sklearn import neural_network\n",
    "nn = neural_network.MLPClassifier(max_iter=1000, hidden_layer_sizes=(200,150,100,50,25))\n",
    "print(nn)\n",
    "nn.fit(data_train, y_train)\n",
    "\n",
    "nn_performance = BinaryClassificationPerformance(nn.predict(data_train), y_train, 'nn_tr')\n",
    "nn_performance.compute_measures()\n",
    "nn_performance.performance_measures['set'] = 'tr'\n",
    "print('TRAINING SET: ')\n",
    "print(nn_performance.performance_measures)\n",
    "\n",
    "nn_performance_test = BinaryClassificationPerformance(nn.predict(data_test), y_test, 'nn_te')\n",
    "nn_performance_test.compute_measures()\n",
    "nn_performance_test.performance_measures['set'] = 'te'\n",
    "print('TEST SET: ')\n",
    "print(nn_performance_test.performance_measures)\n",
    "\n",
    "nn_performance_test.img_indices()\n",
    "nn_img_indices_to_view = nn_performance_test.image_indices"
   ]
  },
  {
   "cell_type": "code",
   "execution_count": null,
   "metadata": {},
   "outputs": [],
   "source": [
    "performance_examples('TP', nn_img_indices_to_view)"
   ]
  },
  {
   "cell_type": "code",
   "execution_count": null,
   "metadata": {},
   "outputs": [],
   "source": [
    "performance_examples('FP', nn_img_indices_to_view)"
   ]
  },
  {
   "cell_type": "code",
   "execution_count": null,
   "metadata": {},
   "outputs": [],
   "source": [
    "performance_examples('FN', nn_img_indices_to_view)"
   ]
  },
  {
   "cell_type": "code",
   "execution_count": 324,
   "metadata": {},
   "outputs": [],
   "source": [
    "# list of fits to compare: \n",
    "final_fits = []\n",
    "final_fits.append(nn_performance.performance_measures)\n",
    "final_fits.append(nn_performance_test.performance_measures)"
   ]
  },
  {
   "cell_type": "code",
   "execution_count": 325,
   "metadata": {},
   "outputs": [],
   "source": [
    "#matplotlib color codes: b,g,r,c,m,y,k"
   ]
  },
  {
   "cell_type": "code",
   "execution_count": 326,
   "metadata": {},
   "outputs": [
    {
     "data": {
      "image/png": "[encoded data removed]",
      "text/plain": [
       "<Figure size 720x720 with 1 Axes>"
      ]
     },
     "metadata": {
      "needs_background": "light"
     },
     "output_type": "display_data"
    }
   ],
   "source": [
    "#Plot - Recall v Accuracy\n",
    "\n",
    "plt.figure(figsize=(10,10))\n",
    "\n",
    "for fit in final_fits:\n",
    "    if fit['set'] in ['tr']:\n",
    "        color = 'bo'\n",
    "    elif fit['set'] in ['te']:\n",
    "        color = 'go'\n",
    "    else:\n",
    "        color = 'ko'\n",
    "    plt.plot(fit['TP'] / (fit['TP'] + fit['FN']), \n",
    "             (fit['TP'] + fit['TN']) / (fit['Pos'] + fit['Neg']), color, markersize=12)\n",
    "    plt.text(fit['TP'] / (fit['TP'] + fit['FN']), \n",
    "             (fit['TP'] + fit['TN']) / (fit['Pos'] + fit['Neg']), fit['desc'] + ': ' + fit['set'], fontsize=16)\n",
    "plt.axis([0.6, 1, 0.98, 1.01])\n",
    "plt.title('ROC plot - Accuracy v Recall')\n",
    "plt.xlabel('Recall')\n",
    "plt.ylabel('Accuracy')\n",
    "plt.show()"
   ]
  },
  {
   "cell_type": "code",
   "execution_count": 327,
   "metadata": {},
   "outputs": [
    {
     "data": {
      "image/png": "[encoded data removed]",
      "text/plain": [
       "<Figure size 720x720 with 1 Axes>"
      ]
     },
     "metadata": {
      "needs_background": "light"
     },
     "output_type": "display_data"
    }
   ],
   "source": [
    "# ROC Plot - True Pos vs False Pos\n",
    "\n",
    "plt.figure(figsize=(10,10))\n",
    "\n",
    "for fit in final_fits:\n",
    "    if fit['set'] in ['tr']:\n",
    "        color = 'bo'\n",
    "    elif fit['set'] in ['te']:\n",
    "        color = 'go'\n",
    "    else:\n",
    "        color = 'ko'\n",
    "    plt.plot(fit['FP'] / fit['Neg'], \n",
    "             fit['TP'] / fit['Pos'], color, markersize=12)\n",
    "    plt.text(fit['FP'] / fit['Neg'], \n",
    "             fit['TP'] / fit['Pos'], fit['desc'] + ': ' + fit['set'], fontsize=16)\n",
    "plt.axis([0, 1, 0, 1])\n",
    "plt.title('ROC plot: True Pos vs False Pos')\n",
    "plt.xlabel('False Positive Rate')\n",
    "plt.ylabel('True Positive Rate')\n",
    "plt.show()"
   ]
  },
  {
   "cell_type": "code",
   "execution_count": 328,
   "metadata": {},
   "outputs": [],
   "source": [
    "#SUBMISSION\n",
    "\n",
    "submission_ci_path = 'C:/Users/geoff/PycharmProjects/machine_learning_assignment2/final_assignment_2/test_data_for_grading/test_cropped_images/' # file path for cropped images for training\n",
    "submission_l_file = 'C:/Users/geoff/PycharmProjects/machine_learning_assignment2/final_assignment_2/test_data_for_grading/test_plane_labels.csv' # file path and file name for csv with labels"
   ]
  },
  {
   "cell_type": "code",
   "execution_count": 329,
   "metadata": {},
   "outputs": [
    {
     "name": "stdout",
     "output_type": "stream",
     "text": [
      "First few lines of image labels: \n",
      "                   img_name\n",
      "0  2016-08-02T13+50+24_430Z\n",
      "1  2016-08-02T14+12+37_390Z\n",
      "2  2016-08-03T12+32+21_790Z\n",
      "3  2016-08-03T13+19+28_320Z\n",
      "4  2016-08-05T15+24+58_670Z\n",
      "Size of image label dataFrame: \n",
      "(1523, 1)\n",
      "Shape of original feature representation: \n",
      "(1523, 60, 140)\n",
      "Shape of flat feature representation: \n",
      "(1523, 8400)\n",
      "Shape of X_test for submission:\n",
      "(1523, 8400)\n",
      "SUCCESS!\n",
      "Number of rows in the submission test set (should be 1,523): \n"
     ]
    }
   ],
   "source": [
    "X_test_data, X_test_submission = process_raw_data(submission_l_file, submission_ci_path, my_random_seed=223, test=True)\n",
    "print(\"Number of rows in the submission test set (should be 1,523): \")"
   ]
  },
  {
   "cell_type": "code",
   "execution_count": 330,
   "metadata": {},
   "outputs": [
    {
     "name": "stdout",
     "output_type": "stream",
     "text": [
      "(5068, 8400)\n",
      "(1523, 8400)\n"
     ]
    }
   ],
   "source": [
    "print(data_train.shape)\n",
    "print(X_test_data.shape)"
   ]
  },
  {
   "cell_type": "code",
   "execution_count": 331,
   "metadata": {},
   "outputs": [
    {
     "name": "stdout",
     "output_type": "stream",
     "text": [
      "0.014445173998686802\n"
     ]
    }
   ],
   "source": [
    "# concatenate predictions to the id\n",
    "X_test_submission[\"prediction\"] = prc.predict(X_test_data)\n",
    "# look at the proportion of positive predictions\n",
    "print(X_test_submission['prediction'].mean())"
   ]
  },
  {
   "cell_type": "code",
   "execution_count": 332,
   "metadata": {},
   "outputs": [
    {
     "name": "stdout",
     "output_type": "stream",
     "text": [
      "(1523, 2)\n"
     ]
    }
   ],
   "source": [
    "print(X_test_submission.shape) # should be (1523, 2)"
   ]
  },
  {
   "cell_type": "code",
   "execution_count": 333,
   "metadata": {},
   "outputs": [],
   "source": [
    "# export submission file as pdf\n",
    "# CHANGE FILE PATH: \n",
    "X_test_submission.to_csv('C:/Users/geoff/Desktop/New_School/Semester_5/Machine_Learning/assignment2/iterations/airplane_submission_cnr1.csv', index=False)"
   ]
  },
  {
   "cell_type": "code",
   "execution_count": null,
   "metadata": {},
   "outputs": [],
   "source": []
  }
 ],
 "metadata": {
  "kernelspec": {
   "display_name": "Python 3",
   "language": "python",
   "name": "python3"
  },
  "language_info": {
   "codemirror_mode": {
    "name": "ipython",
    "version": 3
   },
   "file_extension": ".py",
   "mimetype": "text/x-python",
   "name": "python",
   "nbconvert_exporter": "python",
   "pygments_lexer": "ipython3",
   "version": "3.8.3"
  }
 },
 "nbformat": 4,
 "nbformat_minor": 4
}
